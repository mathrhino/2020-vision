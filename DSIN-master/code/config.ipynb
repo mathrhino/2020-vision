{
  "cells": [
    {
      "cell_type": "code",
      "metadata": {},
      "source": [
        "FRAC = 0.25\n",
        "\n",
        "DIN_SESS_MAX_LEN = 50\n",
        "\n",
        "DSIN_SESS_COUNT = 5\n",
        "DSIN_SESS_MAX_LEN = 10"
      ],
      "outputs": [],
      "execution_count": null
    }
  ],
  "metadata": {
    "anaconda-cloud": {},
    "kernelspec": {
      "display_name": "Python 3",
      "language": "python",
      "name": "python3"
    },
    "language_info": {
      "codemirror_mode": {
        "name": "ipython",
        "version": 3
      },
      "file_extension": ".py",
      "mimetype": "text/x-python",
      "name": "python",
      "nbconvert_exporter": "python",
      "pygments_lexer": "ipython3",
      "version": "3.6.1"
    }
  },
  "nbformat": 4,
  "nbformat_minor": 1
}